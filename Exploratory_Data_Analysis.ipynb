{
  "nbformat": 4,
  "nbformat_minor": 0,
  "metadata": {
    "colab": {
      "name": "Exploratory Data Analysis.ipynb",
      "provenance": [],
      "collapsed_sections": [],
      "toc_visible": true
    },
    "kernelspec": {
      "name": "python3",
      "display_name": "Python 3"
    }
  },
  "cells": [
    {
      "cell_type": "code",
      "metadata": {
        "id": "lfuIkQZMrCJz",
        "colab": {
          "base_uri": "https://localhost:8080/"
        },
        "outputId": "703f43e9-41fb-407d-d1cb-193c1326317e"
      },
      "source": [
        "from google.colab import drive\n",
        "drive.mount('/content/drive')"
      ],
      "execution_count": null,
      "outputs": [
        {
          "output_type": "stream",
          "text": [
            "Mounted at /content/drive\n"
          ],
          "name": "stdout"
        }
      ]
    },
    {
      "cell_type": "markdown",
      "metadata": {
        "id": "mPzjKyA_XrVS"
      },
      "source": [
        "## 0.1.Import libraries"
      ]
    },
    {
      "cell_type": "code",
      "metadata": {
        "id": "ifDZLIoBrJi4"
      },
      "source": [
        "import warnings\n",
        "warnings.simplefilter('ignore')\n",
        "import pandas as pd\n",
        "import numpy as np\n",
        "import matplotlib.pyplot as plt\n",
        "import seaborn as sns\n",
        "from collections import Counter\n",
        "\n",
        "import json\n",
        "import csv\n",
        "from progressbar import progressbar\n",
        "import requests\n",
        "import math"
      ],
      "execution_count": null,
      "outputs": []
    },
    {
      "cell_type": "code",
      "metadata": {
        "id": "cvK-0l3nRSLG",
        "colab": {
          "base_uri": "https://localhost:8080/"
        },
        "outputId": "cfa7f55c-253a-49ee-fc97-f1df89b8b071"
      },
      "source": [
        "%cd '/content/drive/Shared drives/SI650/dataset/'"
      ],
      "execution_count": null,
      "outputs": [
        {
          "output_type": "stream",
          "text": [
            "/content/drive/Shared drives/SI650/dataset\n"
          ],
          "name": "stdout"
        }
      ]
    },
    {
      "cell_type": "code",
      "metadata": {
        "id": "DCt0b_0t_EpI"
      },
      "source": [
        "import datetime\n",
        "# Convert back to datetime object\n",
        "def convert_to_time_obj(timestamp):\n",
        "  return datetime.datetime.strptime(timestamp, '%Y-%m-%dT%H:%M:%S.000+00:00')"
      ],
      "execution_count": null,
      "outputs": []
    },
    {
      "cell_type": "markdown",
      "metadata": {
        "id": "ZBQomLKW9yWb"
      },
      "source": [
        "## 1.Exploratory Data Analysis"
      ]
    },
    {
      "cell_type": "markdown",
      "metadata": {
        "id": "XswyXgrDaW2r"
      },
      "source": [
        "## 1.1.Load dataset"
      ]
    },
    {
      "cell_type": "code",
      "metadata": {
        "id": "a5Fv4BCkUu5E"
      },
      "source": [
        "df_clean = pd.read_csv('sephora_review_skincare_db_id.csv')"
      ],
      "execution_count": null,
      "outputs": []
    },
    {
      "cell_type": "code",
      "metadata": {
        "id": "bndY7PftVN1B",
        "colab": {
          "base_uri": "https://localhost:8080/",
          "height": 972
        },
        "outputId": "c73d5024-0d91-48f1-c0ad-4ffe1f1c72c5"
      },
      "source": [
        "df_clean.sample(10)"
      ],
      "execution_count": null,
      "outputs": [
        {
          "output_type": "execute_result",
          "data": {
            "text/html": [
              "<div>\n",
              "<style scoped>\n",
              "    .dataframe tbody tr th:only-of-type {\n",
              "        vertical-align: middle;\n",
              "    }\n",
              "\n",
              "    .dataframe tbody tr th {\n",
              "        vertical-align: top;\n",
              "    }\n",
              "\n",
              "    .dataframe thead th {\n",
              "        text-align: right;\n",
              "    }\n",
              "</style>\n",
              "<table border=\"1\" class=\"dataframe\">\n",
              "  <thead>\n",
              "    <tr style=\"text-align: right;\">\n",
              "      <th></th>\n",
              "      <th>brand</th>\n",
              "      <th>name</th>\n",
              "      <th>brand_id</th>\n",
              "      <th>brand_image_url</th>\n",
              "      <th>product_id</th>\n",
              "      <th>product_image_url</th>\n",
              "      <th>rating</th>\n",
              "      <th>skin_type</th>\n",
              "      <th>eye_color</th>\n",
              "      <th>skin_concerns</th>\n",
              "      <th>incentivized_review</th>\n",
              "      <th>skin_tone</th>\n",
              "      <th>age</th>\n",
              "      <th>beauty_insider</th>\n",
              "      <th>user_name</th>\n",
              "      <th>review_text</th>\n",
              "      <th>price</th>\n",
              "      <th>recommended</th>\n",
              "      <th>first_submission_date</th>\n",
              "      <th>last_submission_date</th>\n",
              "      <th>location</th>\n",
              "      <th>description</th>\n",
              "      <th>user_id</th>\n",
              "      <th>first_datetime</th>\n",
              "      <th>year</th>\n",
              "      <th>month</th>\n",
              "      <th>day</th>\n",
              "      <th>weekday</th>\n",
              "      <th>hour</th>\n",
              "      <th>timestamp</th>\n",
              "    </tr>\n",
              "  </thead>\n",
              "  <tbody>\n",
              "    <tr>\n",
              "      <th>279536</th>\n",
              "      <td>CLINIQUE</td>\n",
              "      <td>Take The Day Off Cleansing Balm</td>\n",
              "      <td>1254</td>\n",
              "      <td>NaN</td>\n",
              "      <td>P126301</td>\n",
              "      <td>https://www.sephora.com/productimages/sku/s886...</td>\n",
              "      <td>5</td>\n",
              "      <td>normal</td>\n",
              "      <td>brown</td>\n",
              "      <td>acne</td>\n",
              "      <td>NaN</td>\n",
              "      <td>tan</td>\n",
              "      <td>NaN</td>\n",
              "      <td>NaN</td>\n",
              "      <td>emak9</td>\n",
              "      <td>amazing. effortlessly takes off all my makeup ...</td>\n",
              "      <td>$10.00 - $31.00</td>\n",
              "      <td>True</td>\n",
              "      <td>2018-08-25T02:29:42.000+00:00</td>\n",
              "      <td>2018-08-25T02:30:02.000+00:00</td>\n",
              "      <td>NaN</td>\n",
              "      <td>What it is:  A gentle, effective makeup remove...</td>\n",
              "      <td>148280</td>\n",
              "      <td>2018-08-25 02:29:42</td>\n",
              "      <td>2018</td>\n",
              "      <td>8</td>\n",
              "      <td>25</td>\n",
              "      <td>Sat</td>\n",
              "      <td>2</td>\n",
              "      <td>1535164182000000000</td>\n",
              "    </tr>\n",
              "    <tr>\n",
              "      <th>381026</th>\n",
              "      <td>IT Cosmetics</td>\n",
              "      <td>Secret Sauce Anti-Aging Moisturizer</td>\n",
              "      <td>6175</td>\n",
              "      <td>NaN</td>\n",
              "      <td>P421958</td>\n",
              "      <td>https://www.sephora.com/productimages/sku/s198...</td>\n",
              "      <td>5</td>\n",
              "      <td>combination</td>\n",
              "      <td>NaN</td>\n",
              "      <td>acne</td>\n",
              "      <td>True</td>\n",
              "      <td>light</td>\n",
              "      <td>NaN</td>\n",
              "      <td>NaN</td>\n",
              "      <td>arnorris21</td>\n",
              "      <td>I loved my it cosmetics. I will never use anyt...</td>\n",
              "      <td>$20.00 - $68.00</td>\n",
              "      <td>True</td>\n",
              "      <td>2019-06-13T17:15:07.000+00:00</td>\n",
              "      <td>2019-06-25T00:16:15.000+00:00</td>\n",
              "      <td>NaN</td>\n",
              "      <td>What it is:  A luxurious face moisturizer that...</td>\n",
              "      <td>118912</td>\n",
              "      <td>2019-06-13 17:15:07</td>\n",
              "      <td>2019</td>\n",
              "      <td>6</td>\n",
              "      <td>13</td>\n",
              "      <td>Thu</td>\n",
              "      <td>17</td>\n",
              "      <td>1560446107000000000</td>\n",
              "    </tr>\n",
              "    <tr>\n",
              "      <th>113273</th>\n",
              "      <td>IT Cosmetics</td>\n",
              "      <td>CC+ Cream with SPF 50+</td>\n",
              "      <td>6175</td>\n",
              "      <td>NaN</td>\n",
              "      <td>P411885</td>\n",
              "      <td>https://www.sephora.com/productimages/sku/s186...</td>\n",
              "      <td>5</td>\n",
              "      <td>dry</td>\n",
              "      <td>green</td>\n",
              "      <td>NaN</td>\n",
              "      <td>NaN</td>\n",
              "      <td>olive</td>\n",
              "      <td>45to54</td>\n",
              "      <td>NaN</td>\n",
              "      <td>greeneyes6619</td>\n",
              "      <td>I like the color and the coverage</td>\n",
              "      <td>$15.50 - $39.50</td>\n",
              "      <td>True</td>\n",
              "      <td>2017-09-14T15:52:12.000+00:00</td>\n",
              "      <td>2017-09-14T16:00:04.000+00:00</td>\n",
              "      <td>NaN</td>\n",
              "      <td>What it is: A color-correcting, full-coverage ...</td>\n",
              "      <td>157141</td>\n",
              "      <td>2017-09-14 15:52:12</td>\n",
              "      <td>2017</td>\n",
              "      <td>9</td>\n",
              "      <td>14</td>\n",
              "      <td>Thu</td>\n",
              "      <td>15</td>\n",
              "      <td>1505404332000000000</td>\n",
              "    </tr>\n",
              "    <tr>\n",
              "      <th>154881</th>\n",
              "      <td>Drunk Elephant</td>\n",
              "      <td>Virgin Marula Luxury  Face Oil</td>\n",
              "      <td>7083</td>\n",
              "      <td>NaN</td>\n",
              "      <td>P392245</td>\n",
              "      <td>https://www.sephora.com/productimages/sku/s167...</td>\n",
              "      <td>5</td>\n",
              "      <td>normal</td>\n",
              "      <td>hazel</td>\n",
              "      <td>blackheads</td>\n",
              "      <td>NaN</td>\n",
              "      <td>medium</td>\n",
              "      <td>NaN</td>\n",
              "      <td>NaN</td>\n",
              "      <td>talinm10</td>\n",
              "      <td>I use this every night and it is so hydrating ...</td>\n",
              "      <td>$40.00 - $72.00</td>\n",
              "      <td>True</td>\n",
              "      <td>2018-12-12T02:04:27.000+00:00</td>\n",
              "      <td>2018-12-12T02:15:05.000+00:00</td>\n",
              "      <td>NaN</td>\n",
              "      <td>What it is:  A face oil rich in critical antio...</td>\n",
              "      <td>241728</td>\n",
              "      <td>2018-12-12 02:04:27</td>\n",
              "      <td>2018</td>\n",
              "      <td>12</td>\n",
              "      <td>12</td>\n",
              "      <td>Wed</td>\n",
              "      <td>2</td>\n",
              "      <td>1544580267000000000</td>\n",
              "    </tr>\n",
              "    <tr>\n",
              "      <th>21265</th>\n",
              "      <td>LANEIGE</td>\n",
              "      <td>Lip Sleeping Mask</td>\n",
              "      <td>6125</td>\n",
              "      <td>NaN</td>\n",
              "      <td>P420652</td>\n",
              "      <td>https://www.sephora.com/productimages/sku/s213...</td>\n",
              "      <td>5</td>\n",
              "      <td>combination</td>\n",
              "      <td>hazel</td>\n",
              "      <td>NaN</td>\n",
              "      <td>False</td>\n",
              "      <td>fair</td>\n",
              "      <td>NaN</td>\n",
              "      <td>NaN</td>\n",
              "      <td>lenocj</td>\n",
              "      <td>Love this product!  I can tell a total differe...</td>\n",
              "      <td>$22.00</td>\n",
              "      <td>True</td>\n",
              "      <td>2019-08-22T03:57:26.000+00:00</td>\n",
              "      <td>2019-08-22T04:15:03.000+00:00</td>\n",
              "      <td>NaN</td>\n",
              "      <td>What it is: A leave-on lip mask that soothes a...</td>\n",
              "      <td>187569</td>\n",
              "      <td>2019-08-22 03:57:26</td>\n",
              "      <td>2019</td>\n",
              "      <td>8</td>\n",
              "      <td>22</td>\n",
              "      <td>Thu</td>\n",
              "      <td>3</td>\n",
              "      <td>1566446246000000000</td>\n",
              "    </tr>\n",
              "    <tr>\n",
              "      <th>245320</th>\n",
              "      <td>Biossance</td>\n",
              "      <td>Squalane + Marine Algae Eye Cream</td>\n",
              "      <td>6195</td>\n",
              "      <td>NaN</td>\n",
              "      <td>P447210</td>\n",
              "      <td>https://www.sephora.com/productimages/sku/s226...</td>\n",
              "      <td>5</td>\n",
              "      <td>normal</td>\n",
              "      <td>green</td>\n",
              "      <td>dullness</td>\n",
              "      <td>True</td>\n",
              "      <td>light</td>\n",
              "      <td>NaN</td>\n",
              "      <td>NaN</td>\n",
              "      <td>notnenna</td>\n",
              "      <td>I love this eye cream. I’ve used others in the...</td>\n",
              "      <td>$54.00</td>\n",
              "      <td>True</td>\n",
              "      <td>2019-08-10T02:32:16.000+00:00</td>\n",
              "      <td>2019-08-12T02:30:05.000+00:00</td>\n",
              "      <td>NaN</td>\n",
              "      <td>What it is:  A hydrating cream that quickly an...</td>\n",
              "      <td>214421</td>\n",
              "      <td>2019-08-10 02:32:16</td>\n",
              "      <td>2019</td>\n",
              "      <td>8</td>\n",
              "      <td>10</td>\n",
              "      <td>Sat</td>\n",
              "      <td>2</td>\n",
              "      <td>1565404336000000000</td>\n",
              "    </tr>\n",
              "    <tr>\n",
              "      <th>360280</th>\n",
              "      <td>Origins</td>\n",
              "      <td>Checks and Balances™ Frothy Face Wash</td>\n",
              "      <td>3733</td>\n",
              "      <td>NaN</td>\n",
              "      <td>P297516</td>\n",
              "      <td>https://www.sephora.com/productimages/sku/s137...</td>\n",
              "      <td>1</td>\n",
              "      <td>NaN</td>\n",
              "      <td>NaN</td>\n",
              "      <td>NaN</td>\n",
              "      <td>NaN</td>\n",
              "      <td>NaN</td>\n",
              "      <td>NaN</td>\n",
              "      <td>NaN</td>\n",
              "      <td>monicaab</td>\n",
              "      <td>I really liked it for the first week. It was v...</td>\n",
              "      <td>$13.00 - $24.00</td>\n",
              "      <td>NaN</td>\n",
              "      <td>2013-09-13T07:43:43.000+00:00</td>\n",
              "      <td>2013-09-13T07:45:02.000+00:00</td>\n",
              "      <td>NaN</td>\n",
              "      <td>What it is:  A bestselling face wash that easi...</td>\n",
              "      <td>207195</td>\n",
              "      <td>2013-09-13 07:43:43</td>\n",
              "      <td>2013</td>\n",
              "      <td>9</td>\n",
              "      <td>13</td>\n",
              "      <td>Fri</td>\n",
              "      <td>7</td>\n",
              "      <td>1379058223000000000</td>\n",
              "    </tr>\n",
              "    <tr>\n",
              "      <th>63258</th>\n",
              "      <td>Fresh</td>\n",
              "      <td>Soy Makeup Removing Face Wash</td>\n",
              "      <td>4348</td>\n",
              "      <td>NaN</td>\n",
              "      <td>P7880</td>\n",
              "      <td>https://www.sephora.com/productimages/sku/s487...</td>\n",
              "      <td>5</td>\n",
              "      <td>normal</td>\n",
              "      <td>NaN</td>\n",
              "      <td>NaN</td>\n",
              "      <td>NaN</td>\n",
              "      <td>light</td>\n",
              "      <td>45to54</td>\n",
              "      <td>yes</td>\n",
              "      <td>dreamyone</td>\n",
              "      <td>I was given a large sample of this cleanser. I...</td>\n",
              "      <td>$15.00 - $69.00</td>\n",
              "      <td>NaN</td>\n",
              "      <td>2010-01-28T05:48:31.000+00:00</td>\n",
              "      <td>2019-05-08T04:31:10.000+00:00</td>\n",
              "      <td>Chapel Hill, NC</td>\n",
              "      <td>What it is: A bestselling three-in-one face wa...</td>\n",
              "      <td>145507</td>\n",
              "      <td>2010-01-28 05:48:31</td>\n",
              "      <td>2010</td>\n",
              "      <td>1</td>\n",
              "      <td>28</td>\n",
              "      <td>Thu</td>\n",
              "      <td>5</td>\n",
              "      <td>1264657711000000000</td>\n",
              "    </tr>\n",
              "    <tr>\n",
              "      <th>229790</th>\n",
              "      <td>Glow Recipe</td>\n",
              "      <td>Watermelon Glow PHA +BHA Pore-Tight Toner</td>\n",
              "      <td>6189</td>\n",
              "      <td>NaN</td>\n",
              "      <td>P458219</td>\n",
              "      <td>https://www.sephora.com/productimages/sku/s234...</td>\n",
              "      <td>5</td>\n",
              "      <td>normal</td>\n",
              "      <td>green</td>\n",
              "      <td>blackheads</td>\n",
              "      <td>True</td>\n",
              "      <td>fair</td>\n",
              "      <td>NaN</td>\n",
              "      <td>NaN</td>\n",
              "      <td>maureenleanna</td>\n",
              "      <td>Love this! Smells great and feels great on my ...</td>\n",
              "      <td>$34.00</td>\n",
              "      <td>True</td>\n",
              "      <td>2020-06-01T23:14:34.000+00:00</td>\n",
              "      <td>2020-06-05T19:28:50.000+00:00</td>\n",
              "      <td>NaN</td>\n",
              "      <td>What it is:  A gentle, PHA- and BHA-infused wa...</td>\n",
              "      <td>199252</td>\n",
              "      <td>2020-06-01 23:14:34</td>\n",
              "      <td>2020</td>\n",
              "      <td>6</td>\n",
              "      <td>1</td>\n",
              "      <td>Mon</td>\n",
              "      <td>23</td>\n",
              "      <td>1591053274000000000</td>\n",
              "    </tr>\n",
              "    <tr>\n",
              "      <th>20954</th>\n",
              "      <td>LANEIGE</td>\n",
              "      <td>Lip Sleeping Mask</td>\n",
              "      <td>6125</td>\n",
              "      <td>NaN</td>\n",
              "      <td>P420652</td>\n",
              "      <td>https://www.sephora.com/productimages/sku/s213...</td>\n",
              "      <td>4</td>\n",
              "      <td>combination</td>\n",
              "      <td>hazel</td>\n",
              "      <td>NaN</td>\n",
              "      <td>NaN</td>\n",
              "      <td>fair</td>\n",
              "      <td>NaN</td>\n",
              "      <td>NaN</td>\n",
              "      <td>NataleighR</td>\n",
              "      <td>I have Vanilla &amp; the Original both are very ni...</td>\n",
              "      <td>$22.00</td>\n",
              "      <td>True</td>\n",
              "      <td>2019-02-20T15:07:05.000+00:00</td>\n",
              "      <td>2019-02-20T15:15:05.000+00:00</td>\n",
              "      <td>NaN</td>\n",
              "      <td>What it is: A leave-on lip mask that soothes a...</td>\n",
              "      <td>77782</td>\n",
              "      <td>2019-02-20 15:07:05</td>\n",
              "      <td>2019</td>\n",
              "      <td>2</td>\n",
              "      <td>20</td>\n",
              "      <td>Wed</td>\n",
              "      <td>15</td>\n",
              "      <td>1550675225000000000</td>\n",
              "    </tr>\n",
              "  </tbody>\n",
              "</table>\n",
              "</div>"
            ],
            "text/plain": [
              "                 brand  ...            timestamp\n",
              "279536        CLINIQUE  ...  1535164182000000000\n",
              "381026    IT Cosmetics  ...  1560446107000000000\n",
              "113273    IT Cosmetics  ...  1505404332000000000\n",
              "154881  Drunk Elephant  ...  1544580267000000000\n",
              "21265          LANEIGE  ...  1566446246000000000\n",
              "245320       Biossance  ...  1565404336000000000\n",
              "360280         Origins  ...  1379058223000000000\n",
              "63258            Fresh  ...  1264657711000000000\n",
              "229790     Glow Recipe  ...  1591053274000000000\n",
              "20954          LANEIGE  ...  1550675225000000000\n",
              "\n",
              "[10 rows x 30 columns]"
            ]
          },
          "metadata": {
            "tags": []
          },
          "execution_count": 25
        }
      ]
    },
    {
      "cell_type": "markdown",
      "metadata": {
        "id": "z7IhNULtcsUq"
      },
      "source": [
        "## 1.2.Cleaning data"
      ]
    },
    {
      "cell_type": "code",
      "metadata": {
        "id": "rLvIWjw52okd"
      },
      "source": [
        "df_clean = df_clean.drop_duplicates()"
      ],
      "execution_count": null,
      "outputs": []
    },
    {
      "cell_type": "code",
      "metadata": {
        "id": "CoRr1_xobyHA"
      },
      "source": [
        "df_clean['pair_user_product'] = df_clean.user_id.astype(str) + \"_\" + df_clean.product_id\n",
        "df_clean = df_clean.drop_duplicates(subset='pair_user_product')"
      ],
      "execution_count": null,
      "outputs": []
    },
    {
      "cell_type": "code",
      "metadata": {
        "id": "NLNgpCa9U02s",
        "colab": {
          "base_uri": "https://localhost:8080/"
        },
        "outputId": "7ee036c9-202c-4446-a63c-4fd057154079"
      },
      "source": [
        "df_clean.info()"
      ],
      "execution_count": null,
      "outputs": [
        {
          "output_type": "stream",
          "text": [
            "<class 'pandas.core.frame.DataFrame'>\n",
            "Int64Index: 366754 entries, 0 to 413080\n",
            "Data columns (total 31 columns):\n",
            " #   Column                 Non-Null Count   Dtype  \n",
            "---  ------                 --------------   -----  \n",
            " 0   brand                  366754 non-null  object \n",
            " 1   name                   366754 non-null  object \n",
            " 2   brand_id               366754 non-null  int64  \n",
            " 3   brand_image_url        0 non-null       float64\n",
            " 4   product_id             366754 non-null  object \n",
            " 5   product_image_url      366754 non-null  object \n",
            " 6   rating                 366754 non-null  int64  \n",
            " 7   skin_type              293332 non-null  object \n",
            " 8   eye_color              258091 non-null  object \n",
            " 9   skin_concerns          221265 non-null  object \n",
            " 10  incentivized_review    211533 non-null  object \n",
            " 11  skin_tone              282835 non-null  object \n",
            " 12  age                    86587 non-null   object \n",
            " 13  beauty_insider         59805 non-null   object \n",
            " 14  user_name              366754 non-null  object \n",
            " 15  review_text            365781 non-null  object \n",
            " 16  price                  366754 non-null  object \n",
            " 17  recommended            255072 non-null  object \n",
            " 18  first_submission_date  366754 non-null  object \n",
            " 19  last_submission_date   366754 non-null  object \n",
            " 20  location               67059 non-null   object \n",
            " 21  description            366754 non-null  object \n",
            " 22  user_id                366754 non-null  int64  \n",
            " 23  first_datetime         366754 non-null  object \n",
            " 24  year                   366754 non-null  int64  \n",
            " 25  month                  366754 non-null  int64  \n",
            " 26  day                    366754 non-null  int64  \n",
            " 27  weekday                366754 non-null  object \n",
            " 28  hour                   366754 non-null  int64  \n",
            " 29  timestamp              366754 non-null  int64  \n",
            " 30  pair_user_product      366754 non-null  object \n",
            "dtypes: float64(1), int64(8), object(22)\n",
            "memory usage: 99.5+ MB\n"
          ],
          "name": "stdout"
        }
      ]
    },
    {
      "cell_type": "code",
      "metadata": {
        "id": "Fl4R00Oav6LS",
        "colab": {
          "base_uri": "https://localhost:8080/"
        },
        "outputId": "c3ff485e-749a-4aee-e575-6a7e7a271c04"
      },
      "source": [
        "# high ratings (rating 3-5) >> recommend\n",
        "df_clean_high_rate = df_clean[df_clean['rating'] >= 4]\n",
        "df_clean_high_rate.recommended.value_counts()"
      ],
      "execution_count": null,
      "outputs": [
        {
          "output_type": "execute_result",
          "data": {
            "text/plain": [
              "True     200987\n",
              "False      1515\n",
              "Name: recommended, dtype: int64"
            ]
          },
          "metadata": {
            "tags": []
          },
          "execution_count": 98
        }
      ]
    },
    {
      "cell_type": "code",
      "metadata": {
        "id": "iuyGXSRxwLJ9",
        "colab": {
          "base_uri": "https://localhost:8080/"
        },
        "outputId": "0541e64b-198a-45c1-84ec-590676aa4d44"
      },
      "source": [
        "# low ratings (rating 1 and 2) >> not recommend\n",
        "df_clean_low_rate = df_clean[~(df_clean['rating'] >= 4)]\n",
        "df_clean_low_rate.recommended.value_counts()"
      ],
      "execution_count": null,
      "outputs": [
        {
          "output_type": "execute_result",
          "data": {
            "text/plain": [
              "False    45316\n",
              "True      7254\n",
              "Name: recommended, dtype: int64"
            ]
          },
          "metadata": {
            "tags": []
          },
          "execution_count": 99
        }
      ]
    },
    {
      "cell_type": "code",
      "metadata": {
        "id": "9sx_EMToVbpA",
        "colab": {
          "base_uri": "https://localhost:8080/"
        },
        "outputId": "d6bf371b-ba74-46e9-b120-885e9da349fa"
      },
      "source": [
        "# 255242 unique user_id\n",
        "df_clean.user_id.value_counts()"
      ],
      "execution_count": null,
      "outputs": [
        {
          "output_type": "execute_result",
          "data": {
            "text/plain": [
              "167502    75\n",
              "77023     43\n",
              "45311     42\n",
              "120840    41\n",
              "151492    36\n",
              "          ..\n",
              "36751      1\n",
              "40845      1\n",
              "44939      1\n",
              "42890      1\n",
              "0          1\n",
              "Name: user_id, Length: 255242, dtype: int64"
            ]
          },
          "metadata": {
            "tags": []
          },
          "execution_count": 100
        }
      ]
    },
    {
      "cell_type": "code",
      "metadata": {
        "id": "He2fcnDLaIx4",
        "colab": {
          "base_uri": "https://localhost:8080/"
        },
        "outputId": "12681b9a-7792-46ac-f957-fb2ecb7fb259"
      },
      "source": [
        "df_clean.brand.value_counts()"
      ],
      "execution_count": null,
      "outputs": [
        {
          "output_type": "execute_result",
          "data": {
            "text/plain": [
              "Drunk Elephant                26098\n",
              "OLEHENRIKSEN                  25125\n",
              "Fresh                         24302\n",
              "Sol de Janeiro                19122\n",
              "Tatcha                        18085\n",
              "                              ...  \n",
              "Nécessaire                       88\n",
              "NuFACE                           84\n",
              "The Original MakeUp Eraser       23\n",
              "TOM FORD                         18\n",
              "L'Occitane                       12\n",
              "Name: brand, Length: 72, dtype: int64"
            ]
          },
          "metadata": {
            "tags": []
          },
          "execution_count": 104
        }
      ]
    },
    {
      "cell_type": "markdown",
      "metadata": {
        "id": "cYUiubQqcwJK"
      },
      "source": [
        "# 1.2.Heatmap count of reviews by Month and Year"
      ]
    },
    {
      "cell_type": "code",
      "metadata": {
        "id": "jYA6UKbV_gR2"
      },
      "source": [
        "df_clean['first_datetime'] = df_clean['first_submission_date'].map(convert_to_time_obj)"
      ],
      "execution_count": null,
      "outputs": []
    },
    {
      "cell_type": "markdown",
      "metadata": {
        "id": "IvsVCkZKJ5bF"
      },
      "source": [
        "The users have started to reviews since 2017"
      ]
    },
    {
      "cell_type": "code",
      "metadata": {
        "id": "uWkspY-D_sUz",
        "colab": {
          "base_uri": "https://localhost:8080/",
          "height": 365
        },
        "outputId": "ca671e0e-84d3-4467-dcdb-3d09de74180c"
      },
      "source": [
        "yearly_table = df_clean['first_datetime'].groupby([df_clean['first_datetime'].dt.year.rename('year'),\n",
        "                                       df_clean['first_datetime'].dt.month.rename('month')]).agg({'count'})\n",
        "yearly_table = yearly_table.reset_index().pivot('month', 'year', 'count')\n",
        "f, ax = plt.subplots(figsize=(7, 5))\n",
        "sns.heatmap(yearly_table, annot=False, fmt=\"f\", linewidths=.5, ax=ax, cmap=\"Reds\")\n",
        "ax.axes.set_title(\"Heatmap of Count of reviews by Month and Year\", fontsize=13, y=1.01);"
      ],
      "execution_count": null,
      "outputs": [
        {
          "output_type": "display_data",
          "data": {
            "image/png": "[encoded data removed]",
            "text/plain": [
              "<Figure size 504x360 with 2 Axes>"
            ]
          },
          "metadata": {
            "tags": [],
            "needs_background": "light"
          }
        }
      ]
    },
    {
      "cell_type": "markdown",
      "metadata": {
        "id": "mo92fOqAKK2j"
      },
      "source": [
        "They mostly reviewed products on Monday, Tueday, and Wednesday evening till early morning on the next day"
      ]
    },
    {
      "cell_type": "markdown",
      "metadata": {
        "id": "2ZwCZlmMc-GU"
      },
      "source": [
        "# 1.3.Heatmap count of reviews by weekday and time"
      ]
    },
    {
      "cell_type": "code",
      "metadata": {
        "id": "QtOmk5bg_0Mq",
        "colab": {
          "base_uri": "https://localhost:8080/",
          "height": 585
        },
        "outputId": "fc2fd7d7-8c5f-4465-c2d3-8ed15339fdfb"
      },
      "source": [
        "weekdays = ['Mon', 'Tue', 'Wed', 'Thu', 'Fri', 'Sat', 'Sun']\n",
        "weekly_table = df_clean[df_clean['year'] == 2019]['first_datetime'].groupby([df_clean['first_datetime'].dt.weekday.rename('weekday'),\n",
        "                                       df_clean['first_datetime'].dt.hour.rename('hour')]).agg({'count'})\n",
        "weekly_table = weekly_table.reset_index().pivot('hour', 'weekday', 'count')\n",
        "\n",
        "f, ax = plt.subplots(figsize=(7, 9))\n",
        "ax = sns.heatmap(weekly_table, annot=True, fmt=\"d\", linewidths=.5, ax=ax,\n",
        "                 xticklabels=weekdays,  cmap=\"Reds\")\n",
        "ax.axes.set_title(\"Count of reviews by Day and Hour of Day in 2019\",\n",
        "                  fontsize=13, y=1.01)\n",
        "ax.set(xlabel='Day of Week', ylabel='Hour')"
      ],
      "execution_count": null,
      "outputs": [
        {
          "output_type": "execute_result",
          "data": {
            "text/plain": [
              "[Text(42.0, 0.5, 'Hour'), Text(0.5, 60.0, 'Day of Week')]"
            ]
          },
          "metadata": {
            "tags": []
          },
          "execution_count": 112
        },
        {
          "output_type": "display_data",
          "data": {
            "image/png": "[encoded data removed]",
            "text/plain": [
              "<Figure size 504x648 with 2 Axes>"
            ]
          },
          "metadata": {
            "tags": [],
            "needs_background": "light"
          }
        }
      ]
    },
    {
      "cell_type": "markdown",
      "metadata": {
        "id": "OOAQ-8NOO6x1"
      },
      "source": [
        "# 1.4. The long-tail of product popularity"
      ]
    },
    {
      "cell_type": "code",
      "metadata": {
        "id": "030RJfW8Ou_n"
      },
      "source": [
        "# Summary plot of words which have same frequency. \n",
        "# x - number of appearances, word_frequency\n",
        "# y - how many words (frequency) appears in each particular number, number_such_words\n",
        "def set_plot_frequency(tokens):\n",
        "    \n",
        "    # get dictionary (word: x)\n",
        "    count_token = Counter(tokens)\n",
        "    # get dictionary (x: y)\n",
        "    counter_of_counts = Counter(count_token.values())\n",
        "    # sorted by y \n",
        "    counter_of_counts = sorted(counter_of_counts.items(), key=lambda pair: pair[0])\n",
        "    \n",
        "    word_frequency = np.asarray(counter_of_counts)[:,0]\n",
        "    number_such_words = np.asarray(counter_of_counts)[:,1]\n",
        "    number_such_words = number_such_words.astype('int')\n",
        "    #plot\n",
        "    plt.figure(figsize=(15,5))\n",
        "\n",
        "    plt.subplot(1, 2, 1)\n",
        "    plt.plot(word_frequency, number_such_words)\n",
        "    plt.xlabel('Product frequency')\n",
        "    plt.ylabel('number of such products')\n",
        "    plt.title('Product distribution')\n",
        "    #plt.grid(True)\n",
        "    \n",
        "    plt.subplots_adjust(wspace=0.5)\n",
        "    \n",
        "    plt.subplot(1, 2, 2)\n",
        "    plt.plot(np.log(word_frequency), np.log(number_such_words))\n",
        "    plt.xlabel('Log of product frequency')\n",
        "    plt.ylabel('Log of number of such products')\n",
        "    plt.title('Power law for product frequencies')\n",
        "    #plt.grid(True)\n",
        "\n",
        "    return plt.show()"
      ],
      "execution_count": null,
      "outputs": []
    },
    {
      "cell_type": "markdown",
      "metadata": {
        "id": "_vKTdQ-R5rfM"
      },
      "source": [
        "Create product_id list by the number of review_text"
      ]
    },
    {
      "cell_type": "code",
      "metadata": {
        "id": "y7Elh8PER7u0"
      },
      "source": [
        "df_clean_drop = df_clean.dropna(subset=['review_text'])"
      ],
      "execution_count": null,
      "outputs": []
    },
    {
      "cell_type": "code",
      "metadata": {
        "id": "rggk-e4zQDx-"
      },
      "source": [
        "count_token = Counter(prod_list)\n",
        "sorted_count_token = sorted(count_token.items(), key = lambda pair: pair[1], reverse = True)\n",
        "word_frequency = np.asarray(sorted_count_token)[:,0]\n",
        "frequency = np.asarray(sorted_count_token)[:, 1]\n",
        "frequency = frequency.astype('int')"
      ],
      "execution_count": null,
      "outputs": []
    },
    {
      "cell_type": "code",
      "metadata": {
        "id": "yInF0ZUrQvWh",
        "colab": {
          "base_uri": "https://localhost:8080/",
          "height": 332
        },
        "outputId": "bd034289-2f13-4d14-951e-1c949cf1c60e"
      },
      "source": [
        "plt.figure(figsize=(15,5))\n",
        "# fig = plt.figure(figsize=(15,5))\n",
        "plt.plot(word_frequency, frequency)\n",
        "plt.xlabel('Product ID by rank', fontsize=12)\n",
        "plt.ylabel('Popularity', fontsize=12)\n",
        "plt.xticks(np.arange(0, len(word_frequency), 10), word_frequency, rotation=90, ha='left');\n",
        "# plt.yticks(np.arange(0, len(frequency), 1000), frequency, va='bottom');\n",
        "# 20% \n",
        "plt.plot([\"P124716\", \"P124716\"], [-1, max], '-.', c='orange', label=\"20th product_id\")\n",
        "# 80%\n",
        "plt.plot([\"P435378\", \"P435378\"], [-1, max], '-.', c='blue', label=\"80th product_id\")\n",
        "plt.title('Product distribution', fontsize=20)\n",
        "plt.legend()"
      ],
      "execution_count": null,
      "outputs": [
        {
          "output_type": "execute_result",
          "data": {
            "text/plain": [
              "<matplotlib.legend.Legend at 0x7f4d91486940>"
            ]
          },
          "metadata": {
            "tags": []
          },
          "execution_count": 170
        },
        {
          "output_type": "display_data",
          "data": {
            "image/png": "[encoded data removed]",
            "text/plain": [
              "<Figure size 1080x360 with 1 Axes>"
            ]
          },
          "metadata": {
            "tags": [],
            "needs_background": "light"
          }
        }
      ]
    },
    {
      "cell_type": "code",
      "metadata": {
        "id": "JC3LwVVc3MlL",
        "colab": {
          "base_uri": "https://localhost:8080/"
        },
        "outputId": "fd96aaca-664b-4441-b955-e6bf6e60628a"
      },
      "source": [
        "# Short head\n",
        "short_product_id = word_frequency[:57]\n",
        "short_product_id"
      ],
      "execution_count": null,
      "outputs": [
        {
          "output_type": "execute_result",
          "data": {
            "text/plain": [
              "array(['P420652', 'P7109', 'P57002', 'P7880', 'P218700', 'P248407',\n",
              "       'P269122', 'P406080', 'P425318', 'P9889', 'P376409', 'P463958',\n",
              "       'P394639', 'P236816', 'P42343', 'P140906', 'P427421', 'P417238',\n",
              "       'P297524', 'P297511', 'P411885', 'P248404', 'P126301', 'P456412',\n",
              "       'P426339', 'P122900', 'P309308', 'P393356', 'P400259', 'P415438',\n",
              "       'P409800', 'P427417', 'P443825', 'P54477', 'P6025', 'P429952',\n",
              "       'P418218', 'P411387', 'P411540', 'P392246', 'P302923', 'P394624',\n",
              "       'P421275', 'P232903', 'P430337', 'P42342', 'P297516', 'P302103',\n",
              "       'P420651', 'P439061', 'P443563', 'P94421', 'P442563', 'P278317',\n",
              "       'P415777', 'P232915', 'P393718'], dtype='<U9')"
            ]
          },
          "metadata": {
            "tags": []
          },
          "execution_count": 129
        }
      ]
    },
    {
      "cell_type": "code",
      "metadata": {
        "id": "iSStj1s02-A3",
        "colab": {
          "base_uri": "https://localhost:8080/"
        },
        "outputId": "c4544234-4816-422d-d7f0-3c32c49e301a"
      },
      "source": [
        "# Long tail\n",
        "long_product_id = word_frequency[58:234]\n",
        "long_product_id"
      ],
      "execution_count": null,
      "outputs": [
        {
          "output_type": "execute_result",
          "data": {
            "text/plain": [
              "array(['P124716', 'P426836', 'P406712', 'P422905', 'P410400', 'P461933',\n",
              "       'P461159', 'P427419', 'P42318', 'P427536', 'P442536', 'P381030',\n",
              "       'P427406', 'P454380', 'P458219', 'P399623', 'P287700', 'P434363',\n",
              "       'P441101', 'P270594', 'P426340', 'P461537', 'P400207', 'P432829',\n",
              "       'P431180', 'P392235', 'P456615', 'P434548', 'P429722', 'P415701',\n",
              "       'P406686', 'P432668', 'P456446', 'P428819', 'P392245', 'P439058',\n",
              "       'P440312', 'P174502', 'P416816', 'P446938', 'P427416', 'P439926',\n",
              "       'P433435', 'P109936', 'P461555', 'P431848', 'P429515', 'P447780',\n",
              "       'P428628', 'P379510', 'P416815', 'P448211', 'P307405', 'P440307',\n",
              "       'P447791', 'P425416', 'P411388', 'P428250', 'P410873', 'P462699',\n",
              "       'P455418', 'P415771', 'P448203', 'P427414', 'P377533', 'P417936',\n",
              "       'P427420', 'P442566', 'P416563', 'P433520', 'P439055', 'P421996',\n",
              "       'P427415', 'P443840', 'P443845', 'P375849', 'P429244', 'P419223',\n",
              "       'P433626', 'P422000', 'P454120', 'P417312', 'P454378', 'P453819',\n",
              "       'P404444', 'P411862', 'P423688', 'P421998', 'P385432', 'P426707',\n",
              "       'P458209', 'P429721', 'P427413', 'P421277', 'P428095', 'P427410',\n",
              "       'P404322', 'P456566', 'P453225', 'P421958', 'P443842', 'P411884',\n",
              "       'P416341', 'P433887', 'P449180', 'P418346', 'P444989', 'P456218',\n",
              "       'P454838', 'P460566', 'P416954', 'P453224', 'P427411', 'P447210',\n",
              "       'P446423', 'P281835', 'P448854', 'P422022', 'P11487778', 'P384778',\n",
              "       'P445446', 'P446113', 'P421235', 'P444718', 'P442831', 'P434546',\n",
              "       'P425868', 'P173619', 'P432834', 'P442830', 'P448186', 'P429529',\n",
              "       'P442011', 'P422895', 'P375852', 'P427412', 'P460019', 'P442840',\n",
              "       'P440075', 'P442761', 'P422002', 'P453227', 'P460509', 'P455926',\n",
              "       'P455934', 'P402944', 'P424988', 'P462743', 'P433885', 'P459141',\n",
              "       'P442754', 'P427409', 'P416342', 'P463665', 'P448530', 'P463036',\n",
              "       'P462339', 'P424378', 'P448201', 'P455246', 'P456371', 'P405950',\n",
              "       'P416345', 'P442752', 'P442312', 'P426183', 'P448181', 'P463144',\n",
              "       'P413613', 'P463897', 'P463353', 'P457814', 'P416344', 'P459727',\n",
              "       'P385320', 'P232918'], dtype='<U9')"
            ]
          },
          "metadata": {
            "tags": []
          },
          "execution_count": 130
        }
      ]
    },
    {
      "cell_type": "code",
      "metadata": {
        "id": "NJQXx_753UVD",
        "colab": {
          "base_uri": "https://localhost:8080/"
        },
        "outputId": "61bbaf4c-a15a-46b3-d985-2726cbe1001f"
      },
      "source": [
        "# Distant tail\n",
        "distant_product_id = word_frequency[235:]\n",
        "distant_product_id"
      ],
      "execution_count": null,
      "outputs": [
        {
          "output_type": "execute_result",
          "data": {
            "text/plain": [
              "array(['P455339', 'P457684', 'P458207', 'P455924', 'P457857', 'P455622',\n",
              "       'P447773', 'P460831', 'P450947', 'P454821', 'P465369', 'P463949',\n",
              "       'P463471', 'P461949', 'P455923', 'P458577', 'P411716', 'P461489',\n",
              "       'P462677', 'P461538', 'P461447', 'P460833', 'P452000', 'P460832',\n",
              "       'P456220', 'P460830', 'P462337', 'P462680', 'P463936', 'P461484',\n",
              "       'P462756', 'P462742', 'P461179', 'P462707', 'P463815', 'P463941',\n",
              "       'P461441', 'P461440', 'P461462', 'P460834', 'P464801', 'P462744',\n",
              "       'P463291', 'P463966', 'P460840', 'P462755', 'P462676', 'P461155',\n",
              "       'P462750', 'P463952', 'P465337', 'P455611', 'P461156', 'P463938',\n",
              "       'P461448', 'P462731', 'P460839'], dtype='<U9')"
            ]
          },
          "metadata": {
            "tags": []
          },
          "execution_count": 131
        }
      ]
    },
    {
      "cell_type": "markdown",
      "metadata": {
        "id": "as2LIIJ452LJ"
      },
      "source": [
        "# 1.5. Check data in each group"
      ]
    },
    {
      "cell_type": "code",
      "metadata": {
        "id": "0hyyS7EI61eo",
        "colab": {
          "base_uri": "https://localhost:8080/"
        },
        "outputId": "9bb5a528-f565-4956-96a4-eaaed6f727a1"
      },
      "source": [
        "df_short = df_clean_drop[df_clean_drop.product_id.isin(short_product_id)]\n",
        "df_short.recommended.value_counts()"
      ],
      "execution_count": null,
      "outputs": [
        {
          "output_type": "execute_result",
          "data": {
            "text/plain": [
              "True     97669\n",
              "False    21456\n",
              "Name: recommended, dtype: int64"
            ]
          },
          "metadata": {
            "tags": []
          },
          "execution_count": 132
        }
      ]
    },
    {
      "cell_type": "code",
      "metadata": {
        "id": "jS6ILAfF7HJV",
        "colab": {
          "base_uri": "https://localhost:8080/"
        },
        "outputId": "642ae8ec-5d6d-43a0-d656-7f5ee73a4faf"
      },
      "source": [
        "df_short.rating.value_counts()"
      ],
      "execution_count": null,
      "outputs": [
        {
          "output_type": "execute_result",
          "data": {
            "text/plain": [
              "5    137115\n",
              "4     34425\n",
              "3     14209\n",
              "1     13306\n",
              "2     11315\n",
              "Name: rating, dtype: int64"
            ]
          },
          "metadata": {
            "tags": []
          },
          "execution_count": 133
        }
      ]
    },
    {
      "cell_type": "code",
      "metadata": {
        "id": "L15IEfYM517b",
        "colab": {
          "base_uri": "https://localhost:8080/"
        },
        "outputId": "12311775-bd9a-45f3-ac63-a146aa916776"
      },
      "source": [
        "df_long = df_clean_drop[df_clean_drop.product_id.isin(long_product_id)]\n",
        "df_long.recommended.value_counts()"
      ],
      "execution_count": null,
      "outputs": [
        {
          "output_type": "execute_result",
          "data": {
            "text/plain": [
              "True     107632\n",
              "False     24454\n",
              "Name: recommended, dtype: int64"
            ]
          },
          "metadata": {
            "tags": []
          },
          "execution_count": 135
        }
      ]
    },
    {
      "cell_type": "code",
      "metadata": {
        "id": "SKr4cFsV7Kos",
        "colab": {
          "base_uri": "https://localhost:8080/"
        },
        "outputId": "564571ff-b420-4c99-b2a7-336142ead2a5"
      },
      "source": [
        "df_distant = df_clean_drop[df_clean_drop.product_id.isin(distant_product_id)]\n",
        "df_distant.recommended.value_counts()"
      ],
      "execution_count": null,
      "outputs": [
        {
          "output_type": "execute_result",
          "data": {
            "text/plain": [
              "True     705\n",
              "False    155\n",
              "Name: recommended, dtype: int64"
            ]
          },
          "metadata": {
            "tags": []
          },
          "execution_count": 137
        }
      ]
    },
    {
      "cell_type": "code",
      "metadata": {
        "id": "j8sTXXfO7Qwf",
        "colab": {
          "base_uri": "https://localhost:8080/"
        },
        "outputId": "a13eb18d-bf23-480a-99ae-8d476191b7d4"
      },
      "source": [
        "df_distant.rating.value_counts()"
      ],
      "execution_count": null,
      "outputs": [
        {
          "output_type": "execute_result",
          "data": {
            "text/plain": [
              "5    580\n",
              "4    109\n",
              "1     76\n",
              "3     57\n",
              "2     42\n",
              "Name: rating, dtype: int64"
            ]
          },
          "metadata": {
            "tags": []
          },
          "execution_count": 138
        }
      ]
    },
    {
      "cell_type": "code",
      "metadata": {
        "id": "hb3SBDVCGhby",
        "colab": {
          "base_uri": "https://localhost:8080/"
        },
        "outputId": "d7d4d50a-a24f-45cf-89eb-236368f0e8af"
      },
      "source": [
        "df_short.rating.value_counts()[5] / df_short.rating.value_counts().sum() * 100"
      ],
      "execution_count": null,
      "outputs": [
        {
          "output_type": "execute_result",
          "data": {
            "text/plain": [
              "65.1780196796121"
            ]
          },
          "metadata": {
            "tags": []
          },
          "execution_count": 139
        }
      ]
    },
    {
      "cell_type": "code",
      "metadata": {
        "id": "U4iTfofAGrJl",
        "colab": {
          "base_uri": "https://localhost:8080/"
        },
        "outputId": "602b0591-4a2f-43c9-bc7a-629adceabb81"
      },
      "source": [
        "df_long.rating.value_counts()[5] / df_long.rating.value_counts().sum() * 100"
      ],
      "execution_count": null,
      "outputs": [
        {
          "output_type": "execute_result",
          "data": {
            "text/plain": [
              "62.22772049799502"
            ]
          },
          "metadata": {
            "tags": []
          },
          "execution_count": 140
        }
      ]
    },
    {
      "cell_type": "code",
      "metadata": {
        "id": "GU_b9OeYGuHh",
        "colab": {
          "base_uri": "https://localhost:8080/"
        },
        "outputId": "585fa3ae-78a9-467e-f7ef-e79fa7004d74"
      },
      "source": [
        "df_distant.rating.value_counts()[5] / df_distant.rating.value_counts().sum() * 100"
      ],
      "execution_count": null,
      "outputs": [
        {
          "output_type": "execute_result",
          "data": {
            "text/plain": [
              "67.12962962962963"
            ]
          },
          "metadata": {
            "tags": []
          },
          "execution_count": 141
        }
      ]
    },
    {
      "cell_type": "markdown",
      "metadata": {
        "id": "bdDLMVOBABuy"
      },
      "source": [
        "# 1.6. Find most reviews skincare brand\n"
      ]
    },
    {
      "cell_type": "code",
      "metadata": {
        "id": "6h3Ac6b9oKSS",
        "colab": {
          "base_uri": "https://localhost:8080/",
          "height": 225
        },
        "outputId": "a0ea008a-d53a-4c20-e278-f6387aa169ac"
      },
      "source": [
        "gr_brand_2 = pd.DataFrame(df_clean.groupby(['brand']).description.count())\n",
        "# gr_brand['num'] = [sum(x) for x in gr_brand.name]\n",
        "gr_brand_2 = gr_brand_2.sort_values('description', ascending=False)\n",
        "gr_brand_2.head(5)"
      ],
      "execution_count": null,
      "outputs": [
        {
          "output_type": "execute_result",
          "data": {
            "text/html": [
              "<div>\n",
              "<style scoped>\n",
              "    .dataframe tbody tr th:only-of-type {\n",
              "        vertical-align: middle;\n",
              "    }\n",
              "\n",
              "    .dataframe tbody tr th {\n",
              "        vertical-align: top;\n",
              "    }\n",
              "\n",
              "    .dataframe thead th {\n",
              "        text-align: right;\n",
              "    }\n",
              "</style>\n",
              "<table border=\"1\" class=\"dataframe\">\n",
              "  <thead>\n",
              "    <tr style=\"text-align: right;\">\n",
              "      <th></th>\n",
              "      <th>description</th>\n",
              "    </tr>\n",
              "    <tr>\n",
              "      <th>brand</th>\n",
              "      <th></th>\n",
              "    </tr>\n",
              "  </thead>\n",
              "  <tbody>\n",
              "    <tr>\n",
              "      <th>Drunk Elephant</th>\n",
              "      <td>26098</td>\n",
              "    </tr>\n",
              "    <tr>\n",
              "      <th>OLEHENRIKSEN</th>\n",
              "      <td>25125</td>\n",
              "    </tr>\n",
              "    <tr>\n",
              "      <th>Fresh</th>\n",
              "      <td>24302</td>\n",
              "    </tr>\n",
              "    <tr>\n",
              "      <th>Sol de Janeiro</th>\n",
              "      <td>19122</td>\n",
              "    </tr>\n",
              "    <tr>\n",
              "      <th>Tatcha</th>\n",
              "      <td>18085</td>\n",
              "    </tr>\n",
              "  </tbody>\n",
              "</table>\n",
              "</div>"
            ],
            "text/plain": [
              "                description\n",
              "brand                      \n",
              "Drunk Elephant        26098\n",
              "OLEHENRIKSEN          25125\n",
              "Fresh                 24302\n",
              "Sol de Janeiro        19122\n",
              "Tatcha                18085"
            ]
          },
          "metadata": {
            "tags": []
          },
          "execution_count": 175
        }
      ]
    },
    {
      "cell_type": "code",
      "metadata": {
        "id": "NV6f2FALkO5I",
        "colab": {
          "base_uri": "https://localhost:8080/",
          "height": 225
        },
        "outputId": "10216947-d07e-430e-b583-3495f8a5277b"
      },
      "source": [
        "gr_brand_3 = pd.DataFrame(df_long.groupby(['brand']).description.count())\n",
        "# gr_brand['num'] = [sum(x) for x in gr_brand.name]\n",
        "gr_brand_3 = gr_brand_3.sort_values('description', ascending=False)\n",
        "gr_brand_3.head(5)"
      ],
      "execution_count": null,
      "outputs": [
        {
          "output_type": "execute_result",
          "data": {
            "text/html": [
              "<div>\n",
              "<style scoped>\n",
              "    .dataframe tbody tr th:only-of-type {\n",
              "        vertical-align: middle;\n",
              "    }\n",
              "\n",
              "    .dataframe tbody tr th {\n",
              "        vertical-align: top;\n",
              "    }\n",
              "\n",
              "    .dataframe thead th {\n",
              "        text-align: right;\n",
              "    }\n",
              "</style>\n",
              "<table border=\"1\" class=\"dataframe\">\n",
              "  <thead>\n",
              "    <tr style=\"text-align: right;\">\n",
              "      <th></th>\n",
              "      <th>description</th>\n",
              "    </tr>\n",
              "    <tr>\n",
              "      <th>brand</th>\n",
              "      <th></th>\n",
              "    </tr>\n",
              "  </thead>\n",
              "  <tbody>\n",
              "    <tr>\n",
              "      <th>Tatcha</th>\n",
              "      <td>15164</td>\n",
              "    </tr>\n",
              "    <tr>\n",
              "      <th>Drunk Elephant</th>\n",
              "      <td>13900</td>\n",
              "    </tr>\n",
              "    <tr>\n",
              "      <th>The Ordinary</th>\n",
              "      <td>12774</td>\n",
              "    </tr>\n",
              "    <tr>\n",
              "      <th>OLEHENRIKSEN</th>\n",
              "      <td>10219</td>\n",
              "    </tr>\n",
              "    <tr>\n",
              "      <th>Fresh</th>\n",
              "      <td>7864</td>\n",
              "    </tr>\n",
              "  </tbody>\n",
              "</table>\n",
              "</div>"
            ],
            "text/plain": [
              "                description\n",
              "brand                      \n",
              "Tatcha                15164\n",
              "Drunk Elephant        13900\n",
              "The Ordinary          12774\n",
              "OLEHENRIKSEN          10219\n",
              "Fresh                  7864"
            ]
          },
          "metadata": {
            "tags": []
          },
          "execution_count": 177
        }
      ]
    },
    {
      "cell_type": "code",
      "metadata": {
        "id": "Tiq6dDABkkUi",
        "colab": {
          "base_uri": "https://localhost:8080/",
          "height": 225
        },
        "outputId": "d9e3e101-eddb-41b7-fc60-f2810165c2fe"
      },
      "source": [
        "gr_brand_4 = pd.DataFrame(df_short.groupby(['brand']).description.count())\n",
        "# gr_brand['num'] = [sum(x) for x in gr_brand.name]\n",
        "gr_brand_4 = gr_brand_4.sort_values('description', ascending=False)\n",
        "gr_brand_4.head(5)"
      ],
      "execution_count": null,
      "outputs": [
        {
          "output_type": "execute_result",
          "data": {
            "text/html": [
              "<div>\n",
              "<style scoped>\n",
              "    .dataframe tbody tr th:only-of-type {\n",
              "        vertical-align: middle;\n",
              "    }\n",
              "\n",
              "    .dataframe tbody tr th {\n",
              "        vertical-align: top;\n",
              "    }\n",
              "\n",
              "    .dataframe thead th {\n",
              "        text-align: right;\n",
              "    }\n",
              "</style>\n",
              "<table border=\"1\" class=\"dataframe\">\n",
              "  <thead>\n",
              "    <tr style=\"text-align: right;\">\n",
              "      <th></th>\n",
              "      <th>description</th>\n",
              "    </tr>\n",
              "    <tr>\n",
              "      <th>brand</th>\n",
              "      <th></th>\n",
              "    </tr>\n",
              "  </thead>\n",
              "  <tbody>\n",
              "    <tr>\n",
              "      <th>Fresh</th>\n",
              "      <td>16395</td>\n",
              "    </tr>\n",
              "    <tr>\n",
              "      <th>Sol de Janeiro</th>\n",
              "      <td>15755</td>\n",
              "    </tr>\n",
              "    <tr>\n",
              "      <th>OLEHENRIKSEN</th>\n",
              "      <td>14850</td>\n",
              "    </tr>\n",
              "    <tr>\n",
              "      <th>LANEIGE</th>\n",
              "      <td>14513</td>\n",
              "    </tr>\n",
              "    <tr>\n",
              "      <th>Drunk Elephant</th>\n",
              "      <td>11985</td>\n",
              "    </tr>\n",
              "  </tbody>\n",
              "</table>\n",
              "</div>"
            ],
            "text/plain": [
              "                description\n",
              "brand                      \n",
              "Fresh                 16395\n",
              "Sol de Janeiro        15755\n",
              "OLEHENRIKSEN          14850\n",
              "LANEIGE               14513\n",
              "Drunk Elephant        11985"
            ]
          },
          "metadata": {
            "tags": []
          },
          "execution_count": 178
        }
      ]
    },
    {
      "cell_type": "markdown",
      "metadata": {
        "id": "FKFXfrpAAk6o"
      },
      "source": [
        "# 1.7.Find most reviews skincare brand and name"
      ]
    },
    {
      "cell_type": "code",
      "metadata": {
        "id": "2x4rbqVJjXZt",
        "colab": {
          "base_uri": "https://localhost:8080/",
          "height": 343
        },
        "outputId": "a26d6167-3a65-40ae-a301-4c1bfcf703d5"
      },
      "source": [
        "gr_brand = pd.DataFrame(df_clean.groupby(['brand', 'name']).description.count())\n",
        "gr_brand = gr_brand.sort_values('description', ascending=False).reset_index()\n",
        "gr_brand.head(10)"
      ],
      "execution_count": null,
      "outputs": [
        {
          "output_type": "execute_result",
          "data": {
            "text/html": [
              "<div>\n",
              "<style scoped>\n",
              "    .dataframe tbody tr th:only-of-type {\n",
              "        vertical-align: middle;\n",
              "    }\n",
              "\n",
              "    .dataframe tbody tr th {\n",
              "        vertical-align: top;\n",
              "    }\n",
              "\n",
              "    .dataframe thead th {\n",
              "        text-align: right;\n",
              "    }\n",
              "</style>\n",
              "<table border=\"1\" class=\"dataframe\">\n",
              "  <thead>\n",
              "    <tr style=\"text-align: right;\">\n",
              "      <th></th>\n",
              "      <th>brand</th>\n",
              "      <th>name</th>\n",
              "      <th>description</th>\n",
              "    </tr>\n",
              "  </thead>\n",
              "  <tbody>\n",
              "    <tr>\n",
              "      <th>0</th>\n",
              "      <td>LANEIGE</td>\n",
              "      <td>Lip Sleeping Mask</td>\n",
              "      <td>9954</td>\n",
              "    </tr>\n",
              "    <tr>\n",
              "      <th>1</th>\n",
              "      <td>philosophy</td>\n",
              "      <td>Purity Made Simple Cleanser</td>\n",
              "      <td>9772</td>\n",
              "    </tr>\n",
              "    <tr>\n",
              "      <th>2</th>\n",
              "      <td>Fresh</td>\n",
              "      <td>Sugar Lip Balm Sunscreen SPF 15</td>\n",
              "      <td>7553</td>\n",
              "    </tr>\n",
              "    <tr>\n",
              "      <th>3</th>\n",
              "      <td>Fresh</td>\n",
              "      <td>Soy Makeup Removing Face Wash</td>\n",
              "      <td>6495</td>\n",
              "    </tr>\n",
              "    <tr>\n",
              "      <th>4</th>\n",
              "      <td>Josie Maran</td>\n",
              "      <td>100 percent Pure Argan Oil</td>\n",
              "      <td>5940</td>\n",
              "    </tr>\n",
              "    <tr>\n",
              "      <th>5</th>\n",
              "      <td>First Aid Beauty</td>\n",
              "      <td>Ultra Repair® Cream Intense Hydration</td>\n",
              "      <td>5607</td>\n",
              "    </tr>\n",
              "    <tr>\n",
              "      <th>6</th>\n",
              "      <td>Dr. Dennis Gross Skincare</td>\n",
              "      <td>Alpha Beta® Extra Strength Daily Peel</td>\n",
              "      <td>5602</td>\n",
              "    </tr>\n",
              "    <tr>\n",
              "      <th>7</th>\n",
              "      <td>Sol de Janeiro</td>\n",
              "      <td>Brazilian Bum Bum Cream</td>\n",
              "      <td>5597</td>\n",
              "    </tr>\n",
              "    <tr>\n",
              "      <th>8</th>\n",
              "      <td>Sol de Janeiro</td>\n",
              "      <td>Mini Brazilian Bum Bum Cream</td>\n",
              "      <td>5536</td>\n",
              "    </tr>\n",
              "    <tr>\n",
              "      <th>9</th>\n",
              "      <td>Smashbox</td>\n",
              "      <td>The Original Photo Finish Smooth &amp; Blur Oil-Fr...</td>\n",
              "      <td>5357</td>\n",
              "    </tr>\n",
              "  </tbody>\n",
              "</table>\n",
              "</div>"
            ],
            "text/plain": [
              "                       brand  ... description\n",
              "0                    LANEIGE  ...        9954\n",
              "1                 philosophy  ...        9772\n",
              "2                      Fresh  ...        7553\n",
              "3                      Fresh  ...        6495\n",
              "4                Josie Maran  ...        5940\n",
              "5           First Aid Beauty  ...        5607\n",
              "6  Dr. Dennis Gross Skincare  ...        5602\n",
              "7             Sol de Janeiro  ...        5597\n",
              "8             Sol de Janeiro  ...        5536\n",
              "9                   Smashbox  ...        5357\n",
              "\n",
              "[10 rows x 3 columns]"
            ]
          },
          "metadata": {
            "tags": []
          },
          "execution_count": 145
        }
      ]
    },
    {
      "cell_type": "markdown",
      "metadata": {
        "id": "cRjJBbZ0BUNi"
      },
      "source": [
        "# 1.8. Filter out to get only recommended products"
      ]
    },
    {
      "cell_type": "code",
      "metadata": {
        "id": "kj7UZ6D3lpFH"
      },
      "source": [
        "# most recommended data are missing >> so the data was lost in a half\n",
        "target_ix = df_clean[df_clean.recommended==True]"
      ],
      "execution_count": null,
      "outputs": []
    },
    {
      "cell_type": "code",
      "metadata": {
        "id": "PgN1oQLKmKRg"
      },
      "source": [
        "prod_rec = target_ix.loc[:, ['brand', 'name', 'skin_tone', 'skin_concerns', 'recommended']]"
      ],
      "execution_count": null,
      "outputs": []
    },
    {
      "cell_type": "code",
      "metadata": {
        "id": "jFzDpGKXv2sB",
        "colab": {
          "base_uri": "https://localhost:8080/",
          "height": 402
        },
        "outputId": "ee8bbb53-befb-4264-8593-4d79b29d5157"
      },
      "source": [
        "gr_bran_pi = pd.DataFrame(prod_rec.groupby(['brand', 'name'], as_index= False).agg({\n",
        "  'recommended' : \"count\"\n",
        "\n",
        "}))\n",
        "#  gr_brand['num'] = [sum(x) for x in gr_brand.name]\n",
        "gr_bran_pi = gr_bran_pi.sort_values('recommended', ascending=False)\n",
        "# gr_bran_pi.reset_index()\n",
        "gr_bran_pi"
      ],
      "execution_count": null,
      "outputs": [
        {
          "output_type": "execute_result",
          "data": {
            "text/html": [
              "<div>\n",
              "<style scoped>\n",
              "    .dataframe tbody tr th:only-of-type {\n",
              "        vertical-align: middle;\n",
              "    }\n",
              "\n",
              "    .dataframe tbody tr th {\n",
              "        vertical-align: top;\n",
              "    }\n",
              "\n",
              "    .dataframe thead th {\n",
              "        text-align: right;\n",
              "    }\n",
              "</style>\n",
              "<table border=\"1\" class=\"dataframe\">\n",
              "  <thead>\n",
              "    <tr style=\"text-align: right;\">\n",
              "      <th></th>\n",
              "      <th>brand</th>\n",
              "      <th>name</th>\n",
              "      <th>recommended</th>\n",
              "    </tr>\n",
              "  </thead>\n",
              "  <tbody>\n",
              "    <tr>\n",
              "      <th>128</th>\n",
              "      <td>LANEIGE</td>\n",
              "      <td>Lip Sleeping Mask</td>\n",
              "      <td>8269</td>\n",
              "    </tr>\n",
              "    <tr>\n",
              "      <th>28</th>\n",
              "      <td>Dr. Dennis Gross Skincare</td>\n",
              "      <td>Alpha Beta® Extra Strength Daily Peel</td>\n",
              "      <td>4024</td>\n",
              "    </tr>\n",
              "    <tr>\n",
              "      <th>217</th>\n",
              "      <td>Sol de Janeiro</td>\n",
              "      <td>Brazilian Bum Bum Cream</td>\n",
              "      <td>3572</td>\n",
              "    </tr>\n",
              "    <tr>\n",
              "      <th>221</th>\n",
              "      <td>Sol de Janeiro</td>\n",
              "      <td>Mini Brazilian Bum Bum Cream</td>\n",
              "      <td>3534</td>\n",
              "    </tr>\n",
              "    <tr>\n",
              "      <th>68</th>\n",
              "      <td>Farmacy</td>\n",
              "      <td>Green Clean Makeup Removing Cleansing Balm</td>\n",
              "      <td>3080</td>\n",
              "    </tr>\n",
              "    <tr>\n",
              "      <th>...</th>\n",
              "      <td>...</td>\n",
              "      <td>...</td>\n",
              "      <td>...</td>\n",
              "    </tr>\n",
              "    <tr>\n",
              "      <th>91</th>\n",
              "      <td>Fresh</td>\n",
              "      <td>Sugar Lip Moisturizing Trio</td>\n",
              "      <td>1</td>\n",
              "    </tr>\n",
              "    <tr>\n",
              "      <th>181</th>\n",
              "      <td>SEPHORA COLLECTION</td>\n",
              "      <td>Enchanted Jungle Set</td>\n",
              "      <td>1</td>\n",
              "    </tr>\n",
              "    <tr>\n",
              "      <th>206</th>\n",
              "      <td>Shiseido</td>\n",
              "      <td>Benefiance Wrinkle Smoothing Essentials Set</td>\n",
              "      <td>1</td>\n",
              "    </tr>\n",
              "    <tr>\n",
              "      <th>27</th>\n",
              "      <td>Dr. Dennis Gross Skincare</td>\n",
              "      <td>All is Bright FaceWare Pro Set</td>\n",
              "      <td>1</td>\n",
              "    </tr>\n",
              "    <tr>\n",
              "      <th>48</th>\n",
              "      <td>Drunk Elephant</td>\n",
              "      <td>Hair + Body Trunk 1.0</td>\n",
              "      <td>1</td>\n",
              "    </tr>\n",
              "  </tbody>\n",
              "</table>\n",
              "<p>291 rows × 3 columns</p>\n",
              "</div>"
            ],
            "text/plain": [
              "                         brand  ... recommended\n",
              "128                    LANEIGE  ...        8269\n",
              "28   Dr. Dennis Gross Skincare  ...        4024\n",
              "217             Sol de Janeiro  ...        3572\n",
              "221             Sol de Janeiro  ...        3534\n",
              "68                     Farmacy  ...        3080\n",
              "..                         ...  ...         ...\n",
              "91                       Fresh  ...           1\n",
              "181         SEPHORA COLLECTION  ...           1\n",
              "206                   Shiseido  ...           1\n",
              "27   Dr. Dennis Gross Skincare  ...           1\n",
              "48              Drunk Elephant  ...           1\n",
              "\n",
              "[291 rows x 3 columns]"
            ]
          },
          "metadata": {
            "tags": []
          },
          "execution_count": 148
        }
      ]
    },
    {
      "cell_type": "code",
      "metadata": {
        "id": "xq9fUMAgoGkb"
      },
      "source": [
        "gr_bran_pi['brand_name'] = gr_bran_pi['brand'] + \" : \" + gr_bran_pi['name']"
      ],
      "execution_count": null,
      "outputs": []
    },
    {
      "cell_type": "code",
      "metadata": {
        "id": "ZChWxgsOnmc-",
        "colab": {
          "base_uri": "https://localhost:8080/",
          "height": 505
        },
        "outputId": "e47d3b78-59ba-4b0a-b8da-e400319e49a8"
      },
      "source": [
        "plt.figure(figsize=(10,10), dpi=80)\n",
        "sns.barplot(data=gr_bran_pi[0:20], x='recommended', y='brand_name',palette=\"Set2\")\n",
        "plt.title('Top 25 Product Recommended', fontsize=20)"
      ],
      "execution_count": null,
      "outputs": [
        {
          "output_type": "execute_result",
          "data": {
            "text/plain": [
              "Text(0.5, 1.0, 'Top 25 Product Recommended')"
            ]
          },
          "metadata": {
            "tags": []
          },
          "execution_count": 150
        },
        {
          "output_type": "display_data",
          "data": {
            "image/png": "[encoded data removed]",
            "text/plain": [
              "<Figure size 800x800 with 1 Axes>"
            ]
          },
          "metadata": {
            "tags": [],
            "needs_background": "light"
          }
        }
      ]
    }
  ]
}